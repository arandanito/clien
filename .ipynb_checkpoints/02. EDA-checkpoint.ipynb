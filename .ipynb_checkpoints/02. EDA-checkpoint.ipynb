{
 "cells": [
  {
   "cell_type": "code",
   "execution_count": null,
   "metadata": {},
   "outputs": [],
   "source": [
    "import pandas as pd\n",
    "import numpy as np\n",
    "import matplotlib as mpl\n",
    "import matplotlib.pyplot as plt\n",
    "import seaborn as sns\n",
    "from scipy import stats\n",
    "from sklearn.ensemble import RandomForestClassifier\n",
    "from sklearn.ensemble import RandomForestRegressor\n",
    "\n",
    "%matplotlib inline\n",
    "import warnings\n",
    "warnings.filterwarnings('ignore')"
   ]
  },
  {
   "cell_type": "code",
   "execution_count": null,
   "metadata": {},
   "outputs": [],
   "source": [
    "# 한글 폰트 문제 해결\n",
    "# matplotlib는 한글폰트를 지원하지 않음\n",
    "# is정보\n",
    "import platform\n",
    "# font_manager : 폰트 관리 모듈\n",
    "# rc : 폰트 변경 모듈\n",
    "from matplotlib import font_manager, rc\n",
    "# 시각화 도구\n",
    "from matplotlib import pyplot as plt\n",
    "%matplotlib inline\n",
    "# uniccode 설정\n",
    "plt.rcParams['axes.unicode_minus'] = False\n",
    "\n",
    "if platform.system() == 'Darwin': #os 가 mac일때\n",
    "    rc('font', family = 'AppleGothic')\n",
    "elif platform.system() == 'Windows':\n",
    "    path = 'C:/Windows/Fonts/malgun.ttf'\n",
    "    font_name = font_manager.FontProperties(fname=path).get_name()\n",
    "    rc('font',family = font_name)\n",
    "else:\n",
    "    print(\"Unknown system\")"
   ]
  },
  {
   "cell_type": "code",
   "execution_count": null,
   "metadata": {},
   "outputs": [],
   "source": [
    "clien=pd.read_csv('./clien.csv')"
   ]
  },
  {
   "cell_type": "code",
   "execution_count": 5,
   "metadata": {},
   "outputs": [
    {
     "data": {
      "text/html": [
       "<div>\n",
       "<style scoped>\n",
       "    .dataframe tbody tr th:only-of-type {\n",
       "        vertical-align: middle;\n",
       "    }\n",
       "\n",
       "    .dataframe tbody tr th {\n",
       "        vertical-align: top;\n",
       "    }\n",
       "\n",
       "    .dataframe thead th {\n",
       "        text-align: right;\n",
       "    }\n",
       "</style>\n",
       "<table border=\"1\" class=\"dataframe\">\n",
       "  <thead>\n",
       "    <tr style=\"text-align: right;\">\n",
       "      <th></th>\n",
       "      <th>Unnamed: 0</th>\n",
       "      <th>index</th>\n",
       "      <th>추천수</th>\n",
       "      <th>게시판</th>\n",
       "      <th>제목</th>\n",
       "      <th>리플수</th>\n",
       "      <th>아이디</th>\n",
       "      <th>조회수</th>\n",
       "      <th>날짜</th>\n",
       "      <th>문서번호</th>\n",
       "      <th>사진유무</th>\n",
       "    </tr>\n",
       "  </thead>\n",
       "  <tbody>\n",
       "    <tr>\n",
       "      <td>0</td>\n",
       "      <td>0</td>\n",
       "      <td>0</td>\n",
       "      <td>0</td>\n",
       "      <td>모공</td>\n",
       "      <td>좋아하는 바다 사진 2번째.jpg</td>\n",
       "      <td>0</td>\n",
       "      <td>우득우득</td>\n",
       "      <td>172</td>\n",
       "      <td>2020-02-03 21:04:39</td>\n",
       "      <td>14556250</td>\n",
       "      <td>Y</td>\n",
       "    </tr>\n",
       "    <tr>\n",
       "      <td>1</td>\n",
       "      <td>1</td>\n",
       "      <td>1</td>\n",
       "      <td>0</td>\n",
       "      <td>모공</td>\n",
       "      <td>알리 몇개 구매 배송전인데요..</td>\n",
       "      <td>0</td>\n",
       "      <td>선장다이스</td>\n",
       "      <td>31</td>\n",
       "      <td>2020-02-03 21:04:39</td>\n",
       "      <td>14556249</td>\n",
       "      <td>Y</td>\n",
       "    </tr>\n",
       "    <tr>\n",
       "      <td>2</td>\n",
       "      <td>2</td>\n",
       "      <td>2</td>\n",
       "      <td>0</td>\n",
       "      <td>모공</td>\n",
       "      <td>A8004T-XR WiFi 문제는 배전함에 있던 스위치 때문인것 같네요...</td>\n",
       "      <td>0</td>\n",
       "      <td>Nasacort</td>\n",
       "      <td>61</td>\n",
       "      <td>2020-02-03 21:04:07</td>\n",
       "      <td>14556247</td>\n",
       "      <td>Y</td>\n",
       "    </tr>\n",
       "    <tr>\n",
       "      <td>3</td>\n",
       "      <td>3</td>\n",
       "      <td>3</td>\n",
       "      <td>0</td>\n",
       "      <td>모공</td>\n",
       "      <td>왜냐맨 김하늘 pd 롤 스트리밍 하네요ㅋ</td>\n",
       "      <td>0</td>\n",
       "      <td>R.A.T.M</td>\n",
       "      <td>253</td>\n",
       "      <td>2020-02-03 21:02:47</td>\n",
       "      <td>14556245</td>\n",
       "      <td>Y</td>\n",
       "    </tr>\n",
       "    <tr>\n",
       "      <td>4</td>\n",
       "      <td>4</td>\n",
       "      <td>4</td>\n",
       "      <td>2</td>\n",
       "      <td>모공</td>\n",
       "      <td>펌) '정부 때문에 마스크 못판다'의 진실</td>\n",
       "      <td>0</td>\n",
       "      <td>의심과낭만</td>\n",
       "      <td>485</td>\n",
       "      <td>2020-02-03 21:02:45</td>\n",
       "      <td>14556244</td>\n",
       "      <td>Y</td>\n",
       "    </tr>\n",
       "  </tbody>\n",
       "</table>\n",
       "</div>"
      ],
      "text/plain": [
       "   Unnamed: 0  index  추천수 게시판                                          제목  \\\n",
       "0           0      0    0  모공                          좋아하는 바다 사진 2번째.jpg   \n",
       "1           1      1    0  모공                           알리 몇개 구매 배송전인데요..   \n",
       "2           2      2    0  모공  A8004T-XR WiFi 문제는 배전함에 있던 스위치 때문인것 같네요...   \n",
       "3           3      3    0  모공                      왜냐맨 김하늘 pd 롤 스트리밍 하네요ㅋ   \n",
       "4           4      4    2  모공                     펌) '정부 때문에 마스크 못판다'의 진실   \n",
       "\n",
       "   리플수       아이디  조회수                   날짜      문서번호 사진유무  \n",
       "0    0      우득우득  172  2020-02-03 21:04:39  14556250    Y  \n",
       "1    0     선장다이스   31  2020-02-03 21:04:39  14556249    Y  \n",
       "2    0  Nasacort   61  2020-02-03 21:04:07  14556247    Y  \n",
       "3    0   R.A.T.M  253  2020-02-03 21:02:47  14556245    Y  \n",
       "4    0     의심과낭만  485  2020-02-03 21:02:45  14556244    Y  "
      ]
     },
     "execution_count": 5,
     "metadata": {},
     "output_type": "execute_result"
    }
   ],
   "source": [
    "clien.head()"
   ]
  },
  {
   "cell_type": "code",
   "execution_count": 6,
   "metadata": {},
   "outputs": [],
   "source": [
    "clien=clien[['추천수','게시판','제목','리플수','아이디','조회수','날짜','문서번호','사진유무']]"
   ]
  },
  {
   "cell_type": "code",
   "execution_count": 7,
   "metadata": {},
   "outputs": [
    {
     "name": "stdout",
     "output_type": "stream",
     "text": [
      "<class 'pandas.core.frame.DataFrame'>\n",
      "RangeIndex: 131118 entries, 0 to 131117\n",
      "Data columns (total 9 columns):\n",
      "추천수     131118 non-null int64\n",
      "게시판     131118 non-null object\n",
      "제목      131118 non-null object\n",
      "리플수     131118 non-null int64\n",
      "아이디     131118 non-null object\n",
      "조회수     131118 non-null object\n",
      "날짜      131118 non-null object\n",
      "문서번호    131118 non-null int64\n",
      "사진유무    131118 non-null object\n",
      "dtypes: int64(3), object(6)\n",
      "memory usage: 9.0+ MB\n"
     ]
    }
   ],
   "source": [
    "clien.info()"
   ]
  },
  {
   "cell_type": "code",
   "execution_count": null,
   "metadata": {},
   "outputs": [],
   "source": [
    "# 조회수가 1000이상이면 1k식으로 저장이 되기때문에 조회수 컬럼이 object 타입으로 나옴"
   ]
  },
  {
   "cell_type": "code",
   "execution_count": 8,
   "metadata": {},
   "outputs": [],
   "source": [
    "# Change date to datetype\n",
    "clien['날짜']=pd.to_datetime(clien['날짜'])"
   ]
  },
  {
   "cell_type": "code",
   "execution_count": 9,
   "metadata": {},
   "outputs": [
    {
     "data": {
      "text/plain": [
       "0            172\n",
       "1             31\n",
       "2             61\n",
       "3            253\n",
       "4            485\n",
       "           ...  \n",
       "131113       333\n",
       "131114       598\n",
       "131115    11.4 k\n",
       "131116      1279\n",
       "131117      1190\n",
       "Name: 조회수, Length: 131118, dtype: object"
      ]
     },
     "execution_count": 9,
     "metadata": {},
     "output_type": "execute_result"
    }
   ],
   "source": [
    "clien['조회수']"
   ]
  },
  {
   "cell_type": "code",
   "execution_count": 71,
   "metadata": {},
   "outputs": [
    {
     "ename": "ValueError",
     "evalue": "could not convert string to float: '0172\\n131\\n261\\n3253\\n4485\\n...\\n131113333\\n131114598\\n13111511.40000\\n1311161279\\n1311171190\\nName:조회수,Length:131118,dtype:object'",
     "output_type": "error",
     "traceback": [
      "\u001b[1;31m---------------------------------------------------------------------------\u001b[0m",
      "\u001b[1;31mValueError\u001b[0m                                Traceback (most recent call last)",
      "\u001b[1;32m<ipython-input-71-2b23a972521d>\u001b[0m in \u001b[0;36m<module>\u001b[1;34m\u001b[0m\n\u001b[0;32m      3\u001b[0m \u001b[1;33m\u001b[0m\u001b[0m\n\u001b[0;32m      4\u001b[0m \u001b[1;32mif\u001b[0m \u001b[1;34m\"k\"\u001b[0m \u001b[1;32min\u001b[0m \u001b[0mstr\u001b[0m\u001b[1;33m(\u001b[0m\u001b[0mclien\u001b[0m\u001b[1;33m[\u001b[0m\u001b[1;34m'조회수'\u001b[0m\u001b[1;33m]\u001b[0m\u001b[1;33m)\u001b[0m\u001b[1;33m:\u001b[0m\u001b[1;33m\u001b[0m\u001b[1;33m\u001b[0m\u001b[0m\n\u001b[1;32m----> 5\u001b[1;33m     \u001b[0mclien\u001b[0m\u001b[1;33m[\u001b[0m\u001b[1;34m'조회수int'\u001b[0m\u001b[1;33m]\u001b[0m \u001b[1;33m=\u001b[0m \u001b[0mround\u001b[0m\u001b[1;33m(\u001b[0m\u001b[0mfloat\u001b[0m\u001b[1;33m(\u001b[0m\u001b[0mstr\u001b[0m\u001b[1;33m(\u001b[0m\u001b[0mclien\u001b[0m\u001b[1;33m[\u001b[0m\u001b[1;34m'조회수'\u001b[0m\u001b[1;33m]\u001b[0m\u001b[1;33m)\u001b[0m\u001b[1;33m.\u001b[0m\u001b[0mreplace\u001b[0m\u001b[1;33m(\u001b[0m\u001b[1;34m\"k\"\u001b[0m\u001b[1;33m,\u001b[0m\u001b[1;34m\"0000\"\u001b[0m\u001b[1;33m)\u001b[0m\u001b[1;33m.\u001b[0m\u001b[0mreplace\u001b[0m\u001b[1;33m(\u001b[0m\u001b[1;34m\" \"\u001b[0m\u001b[1;33m,\u001b[0m\u001b[1;34m\"\"\u001b[0m\u001b[1;33m)\u001b[0m\u001b[1;33m)\u001b[0m\u001b[1;33m)\u001b[0m\u001b[1;33m\u001b[0m\u001b[1;33m\u001b[0m\u001b[0m\n\u001b[0m\u001b[0;32m      6\u001b[0m \u001b[1;33m\u001b[0m\u001b[0m\n\u001b[0;32m      7\u001b[0m \u001b[1;32melse\u001b[0m\u001b[1;33m:\u001b[0m\u001b[1;33m\u001b[0m\u001b[1;33m\u001b[0m\u001b[0m\n",
      "\u001b[1;31mValueError\u001b[0m: could not convert string to float: '0172\\n131\\n261\\n3253\\n4485\\n...\\n131113333\\n131114598\\n13111511.40000\\n1311161279\\n1311171190\\nName:조회수,Length:131118,dtype:object'"
     ]
    }
   ],
   "source": [
    "# 조회수 . k 단위 int로 변경\n",
    "clien['조회수int'] =\"\"\n",
    "\n",
    "if \"k\" in str(clien['조회수']):\n",
    "    clien['조회수int'] = round(float(str(clien['조회수']).replace(\"k\",\"0000\").replace(\" \",\"\")))\n",
    "\n",
    "else:\n",
    "    clien['조회수int']= round(float(clien['조회수']))\n"
   ]
  },
  {
   "cell_type": "code",
   "execution_count": 78,
   "metadata": {},
   "outputs": [],
   "source": [
    "# 조회수 . k 단위 int로 변경\n",
    "clien['조회수int'] =\"\"\n",
    "for i in range(len(clien['조회수'])):\n",
    "    if \"k\" in str(clien['조회수'][i]):\n",
    "        a = str(clien['조회수'][i])\n",
    "        b = a.replace(\"k\",\"0000\").replace(\" \",\"\")\n",
    "        c = round(float(b)*1000)\n",
    "        clien['조회수int'][i] = int(c)\n",
    "    else:\n",
    "        clien['조회수int'][i]= int(clien['조회수'][i])\n"
   ]
  },
  {
   "cell_type": "code",
   "execution_count": 92,
   "metadata": {},
   "outputs": [
    {
     "data": {
      "text/plain": [
       "0           172\n",
       "1            31\n",
       "2            61\n",
       "3           253\n",
       "4           485\n",
       "          ...  \n",
       "131113      333\n",
       "131114      598\n",
       "131115    11400\n",
       "131116     1279\n",
       "131117     1190\n",
       "Name: 조회수int, Length: 131118, dtype: int32"
      ]
     },
     "execution_count": 92,
     "metadata": {},
     "output_type": "execute_result"
    }
   ],
   "source": [
    "clien['조회수int'].astype(int)"
   ]
  },
  {
   "cell_type": "code",
   "execution_count": 90,
   "metadata": {},
   "outputs": [],
   "source": [
    "for i in range(len(clien)):\n",
    "    if (type(clien['조회수int'][i]) ==int):\n",
    "        continue\n",
    "    else:\n",
    "        print(i)"
   ]
  },
  {
   "cell_type": "code",
   "execution_count": 87,
   "metadata": {},
   "outputs": [
    {
     "data": {
      "text/plain": [
       "True"
      ]
     },
     "execution_count": 87,
     "metadata": {},
     "output_type": "execute_result"
    }
   ],
   "source": [
    "type(clien['조회수int'][1]) == int"
   ]
  },
  {
   "cell_type": "code",
   "execution_count": 99,
   "metadata": {},
   "outputs": [
    {
     "data": {
      "text/plain": [
       "32200.000000000004"
      ]
     },
     "execution_count": 99,
     "metadata": {},
     "output_type": "execute_result"
    }
   ],
   "source": [
    "float(\"32.2 k\".replace(\"k\",\"\").replace(\" \",\"\"))*1000"
   ]
  },
  {
   "cell_type": "code",
   "execution_count": 100,
   "metadata": {},
   "outputs": [
    {
     "data": {
      "text/plain": [
       "22200.0"
      ]
     },
     "execution_count": 100,
     "metadata": {},
     "output_type": "execute_result"
    }
   ],
   "source": [
    "float(\"22.2 k\".replace(\"k\",\"\").replace(\" \",\"\"))*1000"
   ]
  },
  {
   "cell_type": "code",
   "execution_count": 104,
   "metadata": {},
   "outputs": [
    {
     "data": {
      "text/plain": [
       "32299.999999999996"
      ]
     },
     "execution_count": 104,
     "metadata": {},
     "output_type": "execute_result"
    }
   ],
   "source": [
    "32.3*1000"
   ]
  },
  {
   "cell_type": "code",
   "execution_count": null,
   "metadata": {},
   "outputs": [],
   "source": []
  },
  {
   "cell_type": "code",
   "execution_count": null,
   "metadata": {},
   "outputs": [],
   "source": []
  },
  {
   "cell_type": "code",
   "execution_count": 67,
   "metadata": {},
   "outputs": [
    {
     "data": {
      "text/html": [
       "<div>\n",
       "<style scoped>\n",
       "    .dataframe tbody tr th:only-of-type {\n",
       "        vertical-align: middle;\n",
       "    }\n",
       "\n",
       "    .dataframe tbody tr th {\n",
       "        vertical-align: top;\n",
       "    }\n",
       "\n",
       "    .dataframe thead th {\n",
       "        text-align: right;\n",
       "    }\n",
       "</style>\n",
       "<table border=\"1\" class=\"dataframe\">\n",
       "  <thead>\n",
       "    <tr style=\"text-align: right;\">\n",
       "      <th></th>\n",
       "      <th>추천수</th>\n",
       "      <th>게시판</th>\n",
       "      <th>제목</th>\n",
       "      <th>리플수</th>\n",
       "      <th>아이디</th>\n",
       "      <th>조회수</th>\n",
       "      <th>날짜</th>\n",
       "      <th>문서번호</th>\n",
       "      <th>사진유무</th>\n",
       "      <th>조회수int</th>\n",
       "    </tr>\n",
       "  </thead>\n",
       "  <tbody>\n",
       "    <tr>\n",
       "      <td>0</td>\n",
       "      <td>173</td>\n",
       "      <td>모공</td>\n",
       "      <td>정부때문에 마스크 못판다 역시 구라였네요</td>\n",
       "      <td>4</td>\n",
       "      <td>sian</td>\n",
       "      <td>32.2 k</td>\n",
       "      <td>2020-02-03 08:24:55</td>\n",
       "      <td>14553807</td>\n",
       "      <td>N</td>\n",
       "      <td>32200</td>\n",
       "    </tr>\n",
       "    <tr>\n",
       "      <td>1</td>\n",
       "      <td>84</td>\n",
       "      <td>모공</td>\n",
       "      <td>백종원의 가쓰오부시(가다랑어포) 국산화 근황..</td>\n",
       "      <td>4</td>\n",
       "      <td>nd0v</td>\n",
       "      <td>32.2 k</td>\n",
       "      <td>2020-01-24 02:57:35</td>\n",
       "      <td>14523892</td>\n",
       "      <td>N</td>\n",
       "      <td>32200</td>\n",
       "    </tr>\n",
       "    <tr>\n",
       "      <td>2</td>\n",
       "      <td>542</td>\n",
       "      <td>모공</td>\n",
       "      <td>드디어..ㅜㅜ</td>\n",
       "      <td>5</td>\n",
       "      <td>곰텡</td>\n",
       "      <td>32.2 k</td>\n",
       "      <td>2020-01-20 20:24:06</td>\n",
       "      <td>14513356</td>\n",
       "      <td>N</td>\n",
       "      <td>32200</td>\n",
       "    </tr>\n",
       "    <tr>\n",
       "      <td>3</td>\n",
       "      <td>9</td>\n",
       "      <td>모공</td>\n",
       "      <td>셀카 찍다 259명 사망. jpg</td>\n",
       "      <td>0</td>\n",
       "      <td>Beatles</td>\n",
       "      <td>32.2 k</td>\n",
       "      <td>2020-01-05 23:37:03</td>\n",
       "      <td>14467499</td>\n",
       "      <td>Y</td>\n",
       "      <td>32200</td>\n",
       "    </tr>\n",
       "    <tr>\n",
       "      <td>4</td>\n",
       "      <td>91</td>\n",
       "      <td>모공</td>\n",
       "      <td>한국인이 순하다는 증거</td>\n",
       "      <td>0</td>\n",
       "      <td>미나미모리마치</td>\n",
       "      <td>32.2 k</td>\n",
       "      <td>2020-01-04 10:27:43</td>\n",
       "      <td>14462691</td>\n",
       "      <td>N</td>\n",
       "      <td>32200</td>\n",
       "    </tr>\n",
       "    <tr>\n",
       "      <td>5</td>\n",
       "      <td>3</td>\n",
       "      <td>모공</td>\n",
       "      <td>알벤다졸 성기능 장애</td>\n",
       "      <td>2</td>\n",
       "      <td>JAXA</td>\n",
       "      <td>32.2 k</td>\n",
       "      <td>2020-01-03 05:43:50</td>\n",
       "      <td>14459370</td>\n",
       "      <td>Y</td>\n",
       "      <td>32200</td>\n",
       "    </tr>\n",
       "    <tr>\n",
       "      <td>6</td>\n",
       "      <td>85</td>\n",
       "      <td>모공</td>\n",
       "      <td>청와대 정책 홍보 담당자 미친듯...</td>\n",
       "      <td>3</td>\n",
       "      <td>그물새</td>\n",
       "      <td>32.2 k</td>\n",
       "      <td>2019-12-23 02:25:28</td>\n",
       "      <td>14417555</td>\n",
       "      <td>N</td>\n",
       "      <td>32200</td>\n",
       "    </tr>\n",
       "    <tr>\n",
       "      <td>7</td>\n",
       "      <td>97</td>\n",
       "      <td>모공</td>\n",
       "      <td>2023년 모든 대학 입학금 폐지.jpg</td>\n",
       "      <td>3</td>\n",
       "      <td>wakatan</td>\n",
       "      <td>32.2 k</td>\n",
       "      <td>2019-12-19 08:39:40</td>\n",
       "      <td>14406200</td>\n",
       "      <td>Y</td>\n",
       "      <td>32200</td>\n",
       "    </tr>\n",
       "    <tr>\n",
       "      <td>8</td>\n",
       "      <td>66</td>\n",
       "      <td>모공</td>\n",
       "      <td>속보) 자유당 의총 필리버스터 철회 보류</td>\n",
       "      <td>10</td>\n",
       "      <td>centumriver</td>\n",
       "      <td>32.2 k</td>\n",
       "      <td>2019-12-09 18:30:00</td>\n",
       "      <td>14374726</td>\n",
       "      <td>Y</td>\n",
       "      <td>32200</td>\n",
       "    </tr>\n",
       "    <tr>\n",
       "      <td>9</td>\n",
       "      <td>46</td>\n",
       "      <td>모공</td>\n",
       "      <td>손흥민 골에 대한 레딧 드립.jpg</td>\n",
       "      <td>0</td>\n",
       "      <td>비빔냉면</td>\n",
       "      <td>32.2 k</td>\n",
       "      <td>2019-12-08 01:01:44</td>\n",
       "      <td>14369882</td>\n",
       "      <td>Y</td>\n",
       "      <td>32200</td>\n",
       "    </tr>\n",
       "  </tbody>\n",
       "</table>\n",
       "</div>"
      ],
      "text/plain": [
       "   추천수 게시판                          제목  리플수          아이디     조회수  \\\n",
       "0  173  모공      정부때문에 마스크 못판다 역시 구라였네요    4         sian  32.2 k   \n",
       "1   84  모공  백종원의 가쓰오부시(가다랑어포) 국산화 근황..    4         nd0v  32.2 k   \n",
       "2  542  모공                     드디어..ㅜㅜ    5           곰텡  32.2 k   \n",
       "3    9  모공          셀카 찍다 259명 사망. jpg    0      Beatles  32.2 k   \n",
       "4   91  모공                한국인이 순하다는 증거    0      미나미모리마치  32.2 k   \n",
       "5    3  모공                 알벤다졸 성기능 장애    2         JAXA  32.2 k   \n",
       "6   85  모공        청와대 정책 홍보 담당자 미친듯...    3          그물새  32.2 k   \n",
       "7   97  모공      2023년 모든 대학 입학금 폐지.jpg    3      wakatan  32.2 k   \n",
       "8   66  모공      속보) 자유당 의총 필리버스터 철회 보류   10  centumriver  32.2 k   \n",
       "9   46  모공         손흥민 골에 대한 레딧 드립.jpg    0         비빔냉면  32.2 k   \n",
       "\n",
       "                   날짜      문서번호 사진유무 조회수int  \n",
       "0 2020-02-03 08:24:55  14553807    N  32200  \n",
       "1 2020-01-24 02:57:35  14523892    N  32200  \n",
       "2 2020-01-20 20:24:06  14513356    N  32200  \n",
       "3 2020-01-05 23:37:03  14467499    Y  32200  \n",
       "4 2020-01-04 10:27:43  14462691    N  32200  \n",
       "5 2020-01-03 05:43:50  14459370    Y  32200  \n",
       "6 2019-12-23 02:25:28  14417555    N  32200  \n",
       "7 2019-12-19 08:39:40  14406200    Y  32200  \n",
       "8 2019-12-09 18:30:00  14374726    Y  32200  \n",
       "9 2019-12-08 01:01:44  14369882    Y  32200  "
      ]
     },
     "execution_count": 67,
     "metadata": {},
     "output_type": "execute_result"
    }
   ],
   "source": [
    "clienkk.reset_index(inplace=True,drop = True)\n",
    "clienkk"
   ]
  },
  {
   "cell_type": "code",
   "execution_count": 69,
   "metadata": {},
   "outputs": [
    {
     "name": "stdout",
     "output_type": "stream",
     "text": [
      "0\n",
      "32.20000\n",
      "32200.000000000004\n",
      "1\n",
      "32.20000\n",
      "32200.000000000004\n",
      "2\n",
      "32.20000\n",
      "32200.000000000004\n",
      "3\n",
      "32.20000\n",
      "32200.000000000004\n",
      "4\n",
      "32.20000\n",
      "32200.000000000004\n",
      "5\n",
      "32.20000\n",
      "32200.000000000004\n",
      "6\n",
      "32.20000\n",
      "32200.000000000004\n",
      "7\n",
      "32.20000\n",
      "32200.000000000004\n",
      "8\n",
      "32.20000\n",
      "32200.000000000004\n",
      "9\n",
      "32.20000\n",
      "32200.000000000004\n"
     ]
    }
   ],
   "source": [
    "# 조회수 . k 단위 int로 변경\n",
    "clienkk['조회수int'] =\"\"\n",
    "for i in range(len(clienkk['조회수'])):\n",
    "    if \"k\" in str(clienkk['조회수'][i]):\n",
    "        a = str(clienkk['조회수'][i])\n",
    "        b = a.replace(\"k\",\"0000\").replace(\" \",\"\")\n",
    "        print(b)\n",
    "        c = float(b)*1000\n",
    "        clienkk['조회수int'][i] = float(c)\n",
    "        print(c)\n",
    "    else:\n",
    "        clienkk['조회수int'][i]= float(clienkk['조회수'][i])\n"
   ]
  },
  {
   "cell_type": "code",
   "execution_count": 70,
   "metadata": {},
   "outputs": [
    {
     "name": "stdout",
     "output_type": "stream",
     "text": [
      "32.20000\n",
      "32200\n",
      "32.20000\n",
      "32200\n",
      "32.20000\n",
      "32200\n",
      "32.20000\n",
      "32200\n",
      "32.20000\n",
      "32200\n",
      "32.20000\n",
      "32200\n",
      "32.20000\n",
      "32200\n",
      "32.20000\n",
      "32200\n",
      "32.20000\n",
      "32200\n",
      "32.20000\n",
      "32200\n"
     ]
    }
   ],
   "source": [
    "# 조회수 . k 단위 int로 변경\n",
    "clienkk['조회수int'] =\"\"\n",
    "for i in range(len(clienkk['조회수'])):\n",
    "    if \"k\" in str(clienkk['조회수'][i]):\n",
    "        a = str(clienkk['조회수'][i])\n",
    "        b = a.replace(\"k\",\"0000\").replace(\" \",\"\")\n",
    "        print(b)\n",
    "        c = round(float(b)*1000)\n",
    "        clienkk['조회수int'][i] = float(c)\n",
    "        print(c)\n",
    "    else:\n",
    "        clienkk['조회수int'][i]= float(clienkk['조회수'][i])\n"
   ]
  },
  {
   "cell_type": "code",
   "execution_count": 66,
   "metadata": {},
   "outputs": [
    {
     "data": {
      "text/html": [
       "<div>\n",
       "<style scoped>\n",
       "    .dataframe tbody tr th:only-of-type {\n",
       "        vertical-align: middle;\n",
       "    }\n",
       "\n",
       "    .dataframe tbody tr th {\n",
       "        vertical-align: top;\n",
       "    }\n",
       "\n",
       "    .dataframe thead th {\n",
       "        text-align: right;\n",
       "    }\n",
       "</style>\n",
       "<table border=\"1\" class=\"dataframe\">\n",
       "  <thead>\n",
       "    <tr style=\"text-align: right;\">\n",
       "      <th></th>\n",
       "      <th>추천수</th>\n",
       "      <th>게시판</th>\n",
       "      <th>제목</th>\n",
       "      <th>리플수</th>\n",
       "      <th>아이디</th>\n",
       "      <th>조회수</th>\n",
       "      <th>날짜</th>\n",
       "      <th>문서번호</th>\n",
       "      <th>사진유무</th>\n",
       "      <th>조회수int</th>\n",
       "    </tr>\n",
       "  </thead>\n",
       "  <tbody>\n",
       "    <tr>\n",
       "      <td>1670</td>\n",
       "      <td>173</td>\n",
       "      <td>모공</td>\n",
       "      <td>정부때문에 마스크 못판다 역시 구라였네요</td>\n",
       "      <td>4</td>\n",
       "      <td>sian</td>\n",
       "      <td>32.2 k</td>\n",
       "      <td>2020-02-03 08:24:55</td>\n",
       "      <td>14553807</td>\n",
       "      <td>N</td>\n",
       "      <td>32200</td>\n",
       "    </tr>\n",
       "    <tr>\n",
       "      <td>22541</td>\n",
       "      <td>84</td>\n",
       "      <td>모공</td>\n",
       "      <td>백종원의 가쓰오부시(가다랑어포) 국산화 근황..</td>\n",
       "      <td>4</td>\n",
       "      <td>nd0v</td>\n",
       "      <td>32.2 k</td>\n",
       "      <td>2020-01-24 02:57:35</td>\n",
       "      <td>14523892</td>\n",
       "      <td>N</td>\n",
       "      <td>32200</td>\n",
       "    </tr>\n",
       "    <tr>\n",
       "      <td>29857</td>\n",
       "      <td>542</td>\n",
       "      <td>모공</td>\n",
       "      <td>드디어..ㅜㅜ</td>\n",
       "      <td>5</td>\n",
       "      <td>곰텡</td>\n",
       "      <td>32.2 k</td>\n",
       "      <td>2020-01-20 20:24:06</td>\n",
       "      <td>14513356</td>\n",
       "      <td>N</td>\n",
       "      <td>32200</td>\n",
       "    </tr>\n",
       "    <tr>\n",
       "      <td>60966</td>\n",
       "      <td>9</td>\n",
       "      <td>모공</td>\n",
       "      <td>셀카 찍다 259명 사망. jpg</td>\n",
       "      <td>0</td>\n",
       "      <td>Beatles</td>\n",
       "      <td>32.2 k</td>\n",
       "      <td>2020-01-05 23:37:03</td>\n",
       "      <td>14467499</td>\n",
       "      <td>Y</td>\n",
       "      <td>32200</td>\n",
       "    </tr>\n",
       "    <tr>\n",
       "      <td>64192</td>\n",
       "      <td>91</td>\n",
       "      <td>모공</td>\n",
       "      <td>한국인이 순하다는 증거</td>\n",
       "      <td>0</td>\n",
       "      <td>미나미모리마치</td>\n",
       "      <td>32.2 k</td>\n",
       "      <td>2020-01-04 10:27:43</td>\n",
       "      <td>14462691</td>\n",
       "      <td>N</td>\n",
       "      <td>32200</td>\n",
       "    </tr>\n",
       "    <tr>\n",
       "      <td>66356</td>\n",
       "      <td>3</td>\n",
       "      <td>모공</td>\n",
       "      <td>알벤다졸 성기능 장애</td>\n",
       "      <td>2</td>\n",
       "      <td>JAXA</td>\n",
       "      <td>32.2 k</td>\n",
       "      <td>2020-01-03 05:43:50</td>\n",
       "      <td>14459370</td>\n",
       "      <td>Y</td>\n",
       "      <td>32200</td>\n",
       "    </tr>\n",
       "    <tr>\n",
       "      <td>95148</td>\n",
       "      <td>85</td>\n",
       "      <td>모공</td>\n",
       "      <td>청와대 정책 홍보 담당자 미친듯...</td>\n",
       "      <td>3</td>\n",
       "      <td>그물새</td>\n",
       "      <td>32.2 k</td>\n",
       "      <td>2019-12-23 02:25:28</td>\n",
       "      <td>14417555</td>\n",
       "      <td>N</td>\n",
       "      <td>32200</td>\n",
       "    </tr>\n",
       "    <tr>\n",
       "      <td>102337</td>\n",
       "      <td>97</td>\n",
       "      <td>모공</td>\n",
       "      <td>2023년 모든 대학 입학금 폐지.jpg</td>\n",
       "      <td>3</td>\n",
       "      <td>wakatan</td>\n",
       "      <td>32.2 k</td>\n",
       "      <td>2019-12-19 08:39:40</td>\n",
       "      <td>14406200</td>\n",
       "      <td>Y</td>\n",
       "      <td>32200</td>\n",
       "    </tr>\n",
       "    <tr>\n",
       "      <td>122700</td>\n",
       "      <td>66</td>\n",
       "      <td>모공</td>\n",
       "      <td>속보) 자유당 의총 필리버스터 철회 보류</td>\n",
       "      <td>10</td>\n",
       "      <td>centumriver</td>\n",
       "      <td>32.2 k</td>\n",
       "      <td>2019-12-09 18:30:00</td>\n",
       "      <td>14374726</td>\n",
       "      <td>Y</td>\n",
       "      <td>32200</td>\n",
       "    </tr>\n",
       "    <tr>\n",
       "      <td>125815</td>\n",
       "      <td>46</td>\n",
       "      <td>모공</td>\n",
       "      <td>손흥민 골에 대한 레딧 드립.jpg</td>\n",
       "      <td>0</td>\n",
       "      <td>비빔냉면</td>\n",
       "      <td>32.2 k</td>\n",
       "      <td>2019-12-08 01:01:44</td>\n",
       "      <td>14369882</td>\n",
       "      <td>Y</td>\n",
       "      <td>32200</td>\n",
       "    </tr>\n",
       "  </tbody>\n",
       "</table>\n",
       "</div>"
      ],
      "text/plain": [
       "        추천수 게시판                          제목  리플수          아이디     조회수  \\\n",
       "1670    173  모공      정부때문에 마스크 못판다 역시 구라였네요    4         sian  32.2 k   \n",
       "22541    84  모공  백종원의 가쓰오부시(가다랑어포) 국산화 근황..    4         nd0v  32.2 k   \n",
       "29857   542  모공                     드디어..ㅜㅜ    5           곰텡  32.2 k   \n",
       "60966     9  모공          셀카 찍다 259명 사망. jpg    0      Beatles  32.2 k   \n",
       "64192    91  모공                한국인이 순하다는 증거    0      미나미모리마치  32.2 k   \n",
       "66356     3  모공                 알벤다졸 성기능 장애    2         JAXA  32.2 k   \n",
       "95148    85  모공        청와대 정책 홍보 담당자 미친듯...    3          그물새  32.2 k   \n",
       "102337   97  모공      2023년 모든 대학 입학금 폐지.jpg    3      wakatan  32.2 k   \n",
       "122700   66  모공      속보) 자유당 의총 필리버스터 철회 보류   10  centumriver  32.2 k   \n",
       "125815   46  모공         손흥민 골에 대한 레딧 드립.jpg    0         비빔냉면  32.2 k   \n",
       "\n",
       "                        날짜      문서번호 사진유무 조회수int  \n",
       "1670   2020-02-03 08:24:55  14553807    N  32200  \n",
       "22541  2020-01-24 02:57:35  14523892    N  32200  \n",
       "29857  2020-01-20 20:24:06  14513356    N  32200  \n",
       "60966  2020-01-05 23:37:03  14467499    Y  32200  \n",
       "64192  2020-01-04 10:27:43  14462691    N  32200  \n",
       "66356  2020-01-03 05:43:50  14459370    Y  32200  \n",
       "95148  2019-12-23 02:25:28  14417555    N  32200  \n",
       "102337 2019-12-19 08:39:40  14406200    Y  32200  \n",
       "122700 2019-12-09 18:30:00  14374726    Y  32200  \n",
       "125815 2019-12-08 01:01:44  14369882    Y  32200  "
      ]
     },
     "execution_count": 66,
     "metadata": {},
     "output_type": "execute_result"
    }
   ],
   "source": [
    "clienkk=clien[(clien['조회수int']>32200)&(clien['조회수int']<32201)]\n",
    "clienkk"
   ]
  },
  {
   "cell_type": "code",
   "execution_count": 48,
   "metadata": {},
   "outputs": [
    {
     "data": {
      "text/plain": [
       "11400.0"
      ]
     },
     "execution_count": 48,
     "metadata": {},
     "output_type": "execute_result"
    }
   ],
   "source": [
    "clien['조회수int'][131115]"
   ]
  },
  {
   "cell_type": "code",
   "execution_count": 40,
   "metadata": {},
   "outputs": [
    {
     "name": "stdout",
     "output_type": "stream",
     "text": [
      "14.5 kaaaaa\n",
      "14.50000bbbbb\n",
      "14500.0\n",
      "11.2 kaaaaa\n",
      "11.20000bbbbb\n",
      "11200.0\n"
     ]
    }
   ],
   "source": [
    "# 조회수 . k 단위 int로 변경\n",
    "clien['조회수int'] =\"\"\n",
    "for i in range(260,300):#clien['조회수'])):\n",
    "    try:\n",
    "        if \"k\" in str(clien['조회수'][i]):\n",
    "            a = str(clien['조회수'][i])\n",
    "            print(str(a)+\"aaaaa\")\n",
    "            b = a.replace(\"k\",\"0000\").replace(\" \",\"\")\n",
    "            print(b+\"bbbbb\")\n",
    "            c = float(b)*1000\n",
    "            print(c)\n",
    "        else:\n",
    "            clien['조회수int'][i]= float(clien['조회수'][i])\n",
    "\n",
    "    except:\n",
    "        clien['조회수int'][i]= clien['조회수'][i]\n",
    "        print(i)"
   ]
  },
  {
   "cell_type": "code",
   "execution_count": 27,
   "metadata": {},
   "outputs": [
    {
     "data": {
      "text/plain": [
       "'11.2 k'"
      ]
     },
     "execution_count": 27,
     "metadata": {},
     "output_type": "execute_result"
    }
   ],
   "source": [
    "clien['조회수'][292]"
   ]
  },
  {
   "cell_type": "code",
   "execution_count": 15,
   "metadata": {
    "collapsed": true
   },
   "outputs": [
    {
     "ename": "TypeError",
     "evalue": "cannot convert the series to <class 'float'>",
     "output_type": "error",
     "traceback": [
      "\u001b[1;31m---------------------------------------------------------------------------\u001b[0m",
      "\u001b[1;31mValueError\u001b[0m                                Traceback (most recent call last)",
      "\u001b[1;32m<ipython-input-15-c40c2ff10a27>\u001b[0m in \u001b[0;36m<module>\u001b[1;34m\u001b[0m\n\u001b[0;32m      6\u001b[0m     \u001b[1;32melse\u001b[0m\u001b[1;33m:\u001b[0m\u001b[1;33m\u001b[0m\u001b[1;33m\u001b[0m\u001b[0m\n\u001b[1;32m----> 7\u001b[1;33m         \u001b[0mclien\u001b[0m\u001b[1;33m[\u001b[0m\u001b[1;34m'조회수int'\u001b[0m\u001b[1;33m]\u001b[0m\u001b[1;33m=\u001b[0m \u001b[0mclien\u001b[0m\u001b[1;33m[\u001b[0m\u001b[1;34m'조회수'\u001b[0m\u001b[1;33m]\u001b[0m\u001b[1;33m.\u001b[0m\u001b[0mastype\u001b[0m\u001b[1;33m(\u001b[0m\u001b[0mfloat\u001b[0m\u001b[1;33m)\u001b[0m\u001b[1;33m\u001b[0m\u001b[1;33m\u001b[0m\u001b[0m\n\u001b[0m\u001b[0;32m      8\u001b[0m \u001b[1;32mexcept\u001b[0m\u001b[1;33m:\u001b[0m\u001b[1;33m\u001b[0m\u001b[1;33m\u001b[0m\u001b[0m\n",
      "\u001b[1;32m~\\Anaconda3\\lib\\site-packages\\pandas\\core\\generic.py\u001b[0m in \u001b[0;36mastype\u001b[1;34m(self, dtype, copy, errors, **kwargs)\u001b[0m\n\u001b[0;32m   5881\u001b[0m             new_data = self._data.astype(\n\u001b[1;32m-> 5882\u001b[1;33m                 \u001b[0mdtype\u001b[0m\u001b[1;33m=\u001b[0m\u001b[0mdtype\u001b[0m\u001b[1;33m,\u001b[0m \u001b[0mcopy\u001b[0m\u001b[1;33m=\u001b[0m\u001b[0mcopy\u001b[0m\u001b[1;33m,\u001b[0m \u001b[0merrors\u001b[0m\u001b[1;33m=\u001b[0m\u001b[0merrors\u001b[0m\u001b[1;33m,\u001b[0m \u001b[1;33m**\u001b[0m\u001b[0mkwargs\u001b[0m\u001b[1;33m\u001b[0m\u001b[1;33m\u001b[0m\u001b[0m\n\u001b[0m\u001b[0;32m   5883\u001b[0m             )\n",
      "\u001b[1;32m~\\Anaconda3\\lib\\site-packages\\pandas\\core\\internals\\managers.py\u001b[0m in \u001b[0;36mastype\u001b[1;34m(self, dtype, **kwargs)\u001b[0m\n\u001b[0;32m    580\u001b[0m     \u001b[1;32mdef\u001b[0m \u001b[0mastype\u001b[0m\u001b[1;33m(\u001b[0m\u001b[0mself\u001b[0m\u001b[1;33m,\u001b[0m \u001b[0mdtype\u001b[0m\u001b[1;33m,\u001b[0m \u001b[1;33m**\u001b[0m\u001b[0mkwargs\u001b[0m\u001b[1;33m)\u001b[0m\u001b[1;33m:\u001b[0m\u001b[1;33m\u001b[0m\u001b[1;33m\u001b[0m\u001b[0m\n\u001b[1;32m--> 581\u001b[1;33m         \u001b[1;32mreturn\u001b[0m \u001b[0mself\u001b[0m\u001b[1;33m.\u001b[0m\u001b[0mapply\u001b[0m\u001b[1;33m(\u001b[0m\u001b[1;34m\"astype\"\u001b[0m\u001b[1;33m,\u001b[0m \u001b[0mdtype\u001b[0m\u001b[1;33m=\u001b[0m\u001b[0mdtype\u001b[0m\u001b[1;33m,\u001b[0m \u001b[1;33m**\u001b[0m\u001b[0mkwargs\u001b[0m\u001b[1;33m)\u001b[0m\u001b[1;33m\u001b[0m\u001b[1;33m\u001b[0m\u001b[0m\n\u001b[0m\u001b[0;32m    582\u001b[0m \u001b[1;33m\u001b[0m\u001b[0m\n",
      "\u001b[1;32m~\\Anaconda3\\lib\\site-packages\\pandas\\core\\internals\\managers.py\u001b[0m in \u001b[0;36mapply\u001b[1;34m(self, f, axes, filter, do_integrity_check, consolidate, **kwargs)\u001b[0m\n\u001b[0;32m    437\u001b[0m \u001b[1;33m\u001b[0m\u001b[0m\n\u001b[1;32m--> 438\u001b[1;33m             \u001b[0mapplied\u001b[0m \u001b[1;33m=\u001b[0m \u001b[0mgetattr\u001b[0m\u001b[1;33m(\u001b[0m\u001b[0mb\u001b[0m\u001b[1;33m,\u001b[0m \u001b[0mf\u001b[0m\u001b[1;33m)\u001b[0m\u001b[1;33m(\u001b[0m\u001b[1;33m**\u001b[0m\u001b[0mkwargs\u001b[0m\u001b[1;33m)\u001b[0m\u001b[1;33m\u001b[0m\u001b[1;33m\u001b[0m\u001b[0m\n\u001b[0m\u001b[0;32m    439\u001b[0m             \u001b[0mresult_blocks\u001b[0m \u001b[1;33m=\u001b[0m \u001b[0m_extend_blocks\u001b[0m\u001b[1;33m(\u001b[0m\u001b[0mapplied\u001b[0m\u001b[1;33m,\u001b[0m \u001b[0mresult_blocks\u001b[0m\u001b[1;33m)\u001b[0m\u001b[1;33m\u001b[0m\u001b[1;33m\u001b[0m\u001b[0m\n",
      "\u001b[1;32m~\\Anaconda3\\lib\\site-packages\\pandas\\core\\internals\\blocks.py\u001b[0m in \u001b[0;36mastype\u001b[1;34m(self, dtype, copy, errors, values, **kwargs)\u001b[0m\n\u001b[0;32m    558\u001b[0m     \u001b[1;32mdef\u001b[0m \u001b[0mastype\u001b[0m\u001b[1;33m(\u001b[0m\u001b[0mself\u001b[0m\u001b[1;33m,\u001b[0m \u001b[0mdtype\u001b[0m\u001b[1;33m,\u001b[0m \u001b[0mcopy\u001b[0m\u001b[1;33m=\u001b[0m\u001b[1;32mFalse\u001b[0m\u001b[1;33m,\u001b[0m \u001b[0merrors\u001b[0m\u001b[1;33m=\u001b[0m\u001b[1;34m\"raise\"\u001b[0m\u001b[1;33m,\u001b[0m \u001b[0mvalues\u001b[0m\u001b[1;33m=\u001b[0m\u001b[1;32mNone\u001b[0m\u001b[1;33m,\u001b[0m \u001b[1;33m**\u001b[0m\u001b[0mkwargs\u001b[0m\u001b[1;33m)\u001b[0m\u001b[1;33m:\u001b[0m\u001b[1;33m\u001b[0m\u001b[1;33m\u001b[0m\u001b[0m\n\u001b[1;32m--> 559\u001b[1;33m         \u001b[1;32mreturn\u001b[0m \u001b[0mself\u001b[0m\u001b[1;33m.\u001b[0m\u001b[0m_astype\u001b[0m\u001b[1;33m(\u001b[0m\u001b[0mdtype\u001b[0m\u001b[1;33m,\u001b[0m \u001b[0mcopy\u001b[0m\u001b[1;33m=\u001b[0m\u001b[0mcopy\u001b[0m\u001b[1;33m,\u001b[0m \u001b[0merrors\u001b[0m\u001b[1;33m=\u001b[0m\u001b[0merrors\u001b[0m\u001b[1;33m,\u001b[0m \u001b[0mvalues\u001b[0m\u001b[1;33m=\u001b[0m\u001b[0mvalues\u001b[0m\u001b[1;33m,\u001b[0m \u001b[1;33m**\u001b[0m\u001b[0mkwargs\u001b[0m\u001b[1;33m)\u001b[0m\u001b[1;33m\u001b[0m\u001b[1;33m\u001b[0m\u001b[0m\n\u001b[0m\u001b[0;32m    560\u001b[0m \u001b[1;33m\u001b[0m\u001b[0m\n",
      "\u001b[1;32m~\\Anaconda3\\lib\\site-packages\\pandas\\core\\internals\\blocks.py\u001b[0m in \u001b[0;36m_astype\u001b[1;34m(self, dtype, copy, errors, values, **kwargs)\u001b[0m\n\u001b[0;32m    642\u001b[0m                     \u001b[0mvals1d\u001b[0m \u001b[1;33m=\u001b[0m \u001b[0mvalues\u001b[0m\u001b[1;33m.\u001b[0m\u001b[0mravel\u001b[0m\u001b[1;33m(\u001b[0m\u001b[1;33m)\u001b[0m\u001b[1;33m\u001b[0m\u001b[1;33m\u001b[0m\u001b[0m\n\u001b[1;32m--> 643\u001b[1;33m                     \u001b[0mvalues\u001b[0m \u001b[1;33m=\u001b[0m \u001b[0mastype_nansafe\u001b[0m\u001b[1;33m(\u001b[0m\u001b[0mvals1d\u001b[0m\u001b[1;33m,\u001b[0m \u001b[0mdtype\u001b[0m\u001b[1;33m,\u001b[0m \u001b[0mcopy\u001b[0m\u001b[1;33m=\u001b[0m\u001b[1;32mTrue\u001b[0m\u001b[1;33m,\u001b[0m \u001b[1;33m**\u001b[0m\u001b[0mkwargs\u001b[0m\u001b[1;33m)\u001b[0m\u001b[1;33m\u001b[0m\u001b[1;33m\u001b[0m\u001b[0m\n\u001b[0m\u001b[0;32m    644\u001b[0m \u001b[1;33m\u001b[0m\u001b[0m\n",
      "\u001b[1;32m~\\Anaconda3\\lib\\site-packages\\pandas\\core\\dtypes\\cast.py\u001b[0m in \u001b[0;36mastype_nansafe\u001b[1;34m(arr, dtype, copy, skipna)\u001b[0m\n\u001b[0;32m    728\u001b[0m         \u001b[1;31m# Explicit copy, or required since NumPy can't view from / to object.\u001b[0m\u001b[1;33m\u001b[0m\u001b[1;33m\u001b[0m\u001b[1;33m\u001b[0m\u001b[0m\n\u001b[1;32m--> 729\u001b[1;33m         \u001b[1;32mreturn\u001b[0m \u001b[0marr\u001b[0m\u001b[1;33m.\u001b[0m\u001b[0mastype\u001b[0m\u001b[1;33m(\u001b[0m\u001b[0mdtype\u001b[0m\u001b[1;33m,\u001b[0m \u001b[0mcopy\u001b[0m\u001b[1;33m=\u001b[0m\u001b[1;32mTrue\u001b[0m\u001b[1;33m)\u001b[0m\u001b[1;33m\u001b[0m\u001b[1;33m\u001b[0m\u001b[0m\n\u001b[0m\u001b[0;32m    730\u001b[0m \u001b[1;33m\u001b[0m\u001b[0m\n",
      "\u001b[1;31mValueError\u001b[0m: could not convert string to float: '14.5 k'",
      "\nDuring handling of the above exception, another exception occurred:\n",
      "\u001b[1;31mTypeError\u001b[0m                                 Traceback (most recent call last)",
      "\u001b[1;32m<ipython-input-15-c40c2ff10a27>\u001b[0m in \u001b[0;36m<module>\u001b[1;34m\u001b[0m\n\u001b[0;32m      7\u001b[0m         \u001b[0mclien\u001b[0m\u001b[1;33m[\u001b[0m\u001b[1;34m'조회수int'\u001b[0m\u001b[1;33m]\u001b[0m\u001b[1;33m=\u001b[0m \u001b[0mclien\u001b[0m\u001b[1;33m[\u001b[0m\u001b[1;34m'조회수'\u001b[0m\u001b[1;33m]\u001b[0m\u001b[1;33m.\u001b[0m\u001b[0mastype\u001b[0m\u001b[1;33m(\u001b[0m\u001b[0mfloat\u001b[0m\u001b[1;33m)\u001b[0m\u001b[1;33m\u001b[0m\u001b[1;33m\u001b[0m\u001b[0m\n\u001b[0;32m      8\u001b[0m \u001b[1;32mexcept\u001b[0m\u001b[1;33m:\u001b[0m\u001b[1;33m\u001b[0m\u001b[1;33m\u001b[0m\u001b[0m\n\u001b[1;32m----> 9\u001b[1;33m     \u001b[0mclien\u001b[0m\u001b[1;33m[\u001b[0m\u001b[1;34m'조회수int'\u001b[0m\u001b[1;33m]\u001b[0m\u001b[1;33m=\u001b[0m \u001b[0mfloat\u001b[0m\u001b[1;33m(\u001b[0m\u001b[0mclien\u001b[0m\u001b[1;33m[\u001b[0m\u001b[1;34m'조회수'\u001b[0m\u001b[1;33m]\u001b[0m\u001b[1;33m)\u001b[0m\u001b[1;33m\u001b[0m\u001b[1;33m\u001b[0m\u001b[0m\n\u001b[0m",
      "\u001b[1;32m~\\Anaconda3\\lib\\site-packages\\pandas\\core\\series.py\u001b[0m in \u001b[0;36mwrapper\u001b[1;34m(self)\u001b[0m\n\u001b[0;32m    129\u001b[0m         \u001b[1;32mif\u001b[0m \u001b[0mlen\u001b[0m\u001b[1;33m(\u001b[0m\u001b[0mself\u001b[0m\u001b[1;33m)\u001b[0m \u001b[1;33m==\u001b[0m \u001b[1;36m1\u001b[0m\u001b[1;33m:\u001b[0m\u001b[1;33m\u001b[0m\u001b[1;33m\u001b[0m\u001b[0m\n\u001b[0;32m    130\u001b[0m             \u001b[1;32mreturn\u001b[0m \u001b[0mconverter\u001b[0m\u001b[1;33m(\u001b[0m\u001b[0mself\u001b[0m\u001b[1;33m.\u001b[0m\u001b[0miloc\u001b[0m\u001b[1;33m[\u001b[0m\u001b[1;36m0\u001b[0m\u001b[1;33m]\u001b[0m\u001b[1;33m)\u001b[0m\u001b[1;33m\u001b[0m\u001b[1;33m\u001b[0m\u001b[0m\n\u001b[1;32m--> 131\u001b[1;33m         \u001b[1;32mraise\u001b[0m \u001b[0mTypeError\u001b[0m\u001b[1;33m(\u001b[0m\u001b[1;34m\"cannot convert the series to \"\u001b[0m \u001b[1;34m\"{0}\"\u001b[0m\u001b[1;33m.\u001b[0m\u001b[0mformat\u001b[0m\u001b[1;33m(\u001b[0m\u001b[0mstr\u001b[0m\u001b[1;33m(\u001b[0m\u001b[0mconverter\u001b[0m\u001b[1;33m)\u001b[0m\u001b[1;33m)\u001b[0m\u001b[1;33m)\u001b[0m\u001b[1;33m\u001b[0m\u001b[1;33m\u001b[0m\u001b[0m\n\u001b[0m\u001b[0;32m    132\u001b[0m \u001b[1;33m\u001b[0m\u001b[0m\n\u001b[0;32m    133\u001b[0m     \u001b[0mwrapper\u001b[0m\u001b[1;33m.\u001b[0m\u001b[0m__name__\u001b[0m \u001b[1;33m=\u001b[0m \u001b[1;34m\"__{name}__\"\u001b[0m\u001b[1;33m.\u001b[0m\u001b[0mformat\u001b[0m\u001b[1;33m(\u001b[0m\u001b[0mname\u001b[0m\u001b[1;33m=\u001b[0m\u001b[0mconverter\u001b[0m\u001b[1;33m.\u001b[0m\u001b[0m__name__\u001b[0m\u001b[1;33m)\u001b[0m\u001b[1;33m\u001b[0m\u001b[1;33m\u001b[0m\u001b[0m\n",
      "\u001b[1;31mTypeError\u001b[0m: cannot convert the series to <class 'float'>"
     ]
    }
   ],
   "source": [
    "# 조회수 . k 단위 int로 변경\n",
    "try:\n",
    "    if 'k' in clien['조회수']:\n",
    "        clien['조회수int'] = float(str(clien['조회수']).replace(\"k\",\"0000\").replace(\" \",\"\"))*1000\n",
    "        print(clien['조회수int'])\n",
    "    else:\n",
    "        clien['조회수int']= clien['조회수'].astype(float)\n",
    "except:\n",
    "    clien['조회수int']= float(clien['조회수'])"
   ]
  },
  {
   "cell_type": "code",
   "execution_count": null,
   "metadata": {},
   "outputs": [],
   "source": [
    "float(\"11.4 k\".replace(\"k\",\"0000\").replace(\" \",\"\"))*1000"
   ]
  },
  {
   "cell_type": "code",
   "execution_count": null,
   "metadata": {},
   "outputs": [],
   "source": [
    "clien.info()"
   ]
  },
  {
   "cell_type": "code",
   "execution_count": 19,
   "metadata": {},
   "outputs": [
    {
     "data": {
      "text/plain": [
       "0            172\n",
       "1             31\n",
       "2             61\n",
       "3            253\n",
       "4            485\n",
       "           ...  \n",
       "131113       333\n",
       "131114       598\n",
       "131115    11.4 k\n",
       "131116      1279\n",
       "131117      1190\n",
       "Name: 조회수int, Length: 131118, dtype: object"
      ]
     },
     "execution_count": 19,
     "metadata": {},
     "output_type": "execute_result"
    }
   ],
   "source": [
    "clien['조회수int']"
   ]
  },
  {
   "cell_type": "code",
   "execution_count": null,
   "metadata": {},
   "outputs": [],
   "source": [
    "# change to int\n",
    "#clien['조회수int']=clien['조회수int'].astype(float)\n",
    "clien['조회수int'] = pd.to_numeric(clien.조회수int, errors = 'coerce')"
   ]
  },
  {
   "cell_type": "code",
   "execution_count": null,
   "metadata": {},
   "outputs": [],
   "source": [
    "# check basic info and size\n",
    "clien.info()\n",
    "clien.shape"
   ]
  },
  {
   "cell_type": "code",
   "execution_count": null,
   "metadata": {},
   "outputs": [],
   "source": [
    "# clien Feature 구성\n",
    "clien['year'] = clien['날짜'].dt.year\n",
    "clien['month'] = clien['날짜'].dt.month\n",
    "clien['day'] = clien['날짜'].dt.day\n",
    "clien['hour'] = clien['날짜'].dt.hour\n",
    "clien['minute'] = clien['날짜'].dt.minute\n",
    "clien['second'] = clien['날짜'].dt.second\n",
    "clien['dayofweek'] = clien['날짜'].dt.dayofweek\n",
    "print(clien.shape)\n",
    "print(clien.info())"
   ]
  },
  {
   "cell_type": "code",
   "execution_count": null,
   "metadata": {},
   "outputs": [],
   "source": [
    "fig, axes = plt.subplots(nrows=3)\n",
    "fig.set_size_inches(18,18)\n",
    "\n",
    "# train data\n",
    "plt.sca(axes[0])\n",
    "plt.xticks(rotation=30, ha='right') # x축 글자\n",
    "axes[0].set(ylabel='Count', title='시간별')\n",
    "sns.countplot(data=clien, x='hour', ax=axes[0])\n",
    "\n",
    "#test data\n",
    "plt.sca(axes[1])\n",
    "plt.xticks(rotation=30, ha='right')\n",
    "axes[1].set(ylabel='Count', title='요일별')\n",
    "sns.countplot(data=clien, x='dayofweek', ax=axes[1])\n",
    "\n",
    "#test data\n",
    "plt.sca(axes[2])\n",
    "plt.xticks(rotation=30, ha='right')\n",
    "axes[2].set(ylabel='Count', title='일별')\n",
    "sns.countplot(data=clien, x='day', ax=axes[2])"
   ]
  },
  {
   "cell_type": "markdown",
   "metadata": {},
   "source": [
    "11시대가 제일 글리젠이 많이되고 있으며 9시부터 23시까지의 활동량은 비슷하다.    \n",
    "13시대가 식사하고 돌아와서 소화시키면서 글을 쓰는경우가 많을것 같고    \n",
    "18시대는 퇴근전이나, 야근전 석식 먹기전에 루즈한 타임    \n",
    "20,21시대는 석식후에 체크하는 타이밍    \n",
    "25일같이 휴일인 경우에는 글리젠이 적다(쉬는날 타임 컬럼에 넣기)    \n",
    "금요일, 크리스마스 전날인 경우엔 글리젠이 적고 크리스마스 후에는 글리젠이 많다.    \n",
    "금요일이나, 공휴일 전에는 다음날 쉬는 이점이 있으므로 저녁 약속을 잡아 그런것 같다    \n",
    "(몇시부터 적어지기 시작하는지 체크 - 평일과 함께 체크)     \n",
    "\n",
    "0이 월요일\n"
   ]
  },
  {
   "cell_type": "code",
   "execution_count": null,
   "metadata": {},
   "outputs": [],
   "source": [
    "clien.describe()"
   ]
  },
  {
   "cell_type": "code",
   "execution_count": null,
   "metadata": {},
   "outputs": [],
   "source": [
    "perday=clien.pivot_table('조회수int',index = \"hour\", columns = 'dayofweek',aggfunc='mean')"
   ]
  },
  {
   "cell_type": "code",
   "execution_count": null,
   "metadata": {},
   "outputs": [],
   "source": [
    "clien['조회수int'].describe()"
   ]
  },
  {
   "cell_type": "code",
   "execution_count": null,
   "metadata": {},
   "outputs": [],
   "source": [
    "perday.columns = ['월','화','수','목','금','토','일']"
   ]
  },
  {
   "cell_type": "code",
   "execution_count": null,
   "metadata": {
    "scrolled": true
   },
   "outputs": [],
   "source": [
    "perday"
   ]
  },
  {
   "cell_type": "code",
   "execution_count": null,
   "metadata": {},
   "outputs": [],
   "source": [
    "perday.iloc[:,1]"
   ]
  },
  {
   "cell_type": "code",
   "execution_count": null,
   "metadata": {},
   "outputs": [],
   "source": []
  },
  {
   "cell_type": "code",
   "execution_count": null,
   "metadata": {
    "scrolled": false
   },
   "outputs": [],
   "source": [
    "# fig, axes = plt.subplots(8,1, figsize = (20,90))\n",
    "# axes\n",
    "# axes[0].plot(perday)\n",
    "# # for i in range(len(perday.columns)):\n",
    "# #     axes[i,0].plot(kind='bar')\n",
    "# for i in range(len(perday.columns)):\n",
    "#     axes[int(i)+(1)].plot(perday.iloc[:,i])\n",
    "\n",
    "# 위와 아래는 동일함\n",
    "# 아래대로 써야 타입이랑 바꿔주기 쉽다\n",
    "fig, axes = plt.subplots(8,1, figsize = (20,90))\n",
    "axes\n",
    "perday.plot(ax= axes[0], kind='bar')\n",
    "# for i in range(len(perday.columns)):\n",
    "#     axes[i,0].plot(kind='bar')\n",
    "for i in range(len(perday.columns)):\n",
    "    perday.iloc[:,i].plot(ax = axes[int(i)+1], kind = 'bar')\n",
    "    "
   ]
  },
  {
   "cell_type": "code",
   "execution_count": null,
   "metadata": {},
   "outputs": [],
   "source": [
    "clien.loc[clien['dayofweek']==0,:].describe()"
   ]
  },
  {
   "cell_type": "code",
   "execution_count": null,
   "metadata": {},
   "outputs": [],
   "source": [
    "perday=clien.pivot_table('리플수',index = \"hour\", columns = 'dayofweek',aggfunc='mean')"
   ]
  },
  {
   "cell_type": "code",
   "execution_count": null,
   "metadata": {
    "scrolled": false
   },
   "outputs": [],
   "source": [
    "# fig, axes = plt.subplots(8,1, figsize = (20,90))\n",
    "# axes\n",
    "# axes[0].plot(perday)\n",
    "# # for i in range(len(perday.columns)):\n",
    "# #     axes[i,0].plot(kind='bar')\n",
    "# for i in range(len(perday.columns)):\n",
    "#     axes[int(i)+(1)].plot(perday.iloc[:,i])\n",
    "\n",
    "# 위와 아래는 동일함\n",
    "# 아래대로 써야 타입이랑 바꿔주기 쉽다\n",
    "fig, axes = plt.subplots(8,1, figsize = (20,90))\n",
    "axes\n",
    "perday.plot(ax= axes[0], kind='bar')\n",
    "# for i in range(len(perday.columns)):\n",
    "#     axes[i,0].plot(kind='bar')\n",
    "for i in range(len(perday.columns)):\n",
    "    perday.iloc[:,i].plot(ax = axes[int(i)+1], kind = 'bar')\n",
    "    "
   ]
  },
  {
   "cell_type": "markdown",
   "metadata": {},
   "source": [
    "비슷한 양상을 보임\n",
    "약간의 시간차는 잇지만 5~6 시쯤 올린글에 대해서 \n",
    "수요일과 금요일 새벽이 리플이 잘 달렸다"
   ]
  }
 ],
 "metadata": {
  "kernelspec": {
   "display_name": "Python 3",
   "language": "python",
   "name": "python3"
  },
  "language_info": {
   "codemirror_mode": {
    "name": "ipython",
    "version": 3
   },
   "file_extension": ".py",
   "mimetype": "text/x-python",
   "name": "python",
   "nbconvert_exporter": "python",
   "pygments_lexer": "ipython3",
   "version": "3.7.3"
  }
 },
 "nbformat": 4,
 "nbformat_minor": 2
}
