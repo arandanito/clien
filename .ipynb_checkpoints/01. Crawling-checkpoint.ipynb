{
 "cells": [
  {
   "cell_type": "markdown",
   "metadata": {},
   "source": [
    "Anlalyze times and hits of articles to upload \n",
    "a article in a timely manner to find a mentor"
   ]
  },
  {
   "cell_type": "code",
   "execution_count": 58,
   "metadata": {},
   "outputs": [],
   "source": [
    "# 기본 사용법 (pip install beautifulsoup4)\n",
    "from bs4 import BeautifulSoup\n",
    "# from 모듈이름 import 클래스 이름\n",
    "import urllib.request as req\n",
    "import pandas as pd"
   ]
  },
  {
   "cell_type": "code",
   "execution_count": 150,
   "metadata": {},
   "outputs": [],
   "source": [
    "url = 'https://www.clien.net/service/group/community?&od=T31&po=0'\n",
    "res = req.urlopen(url) #소스를 res로 넣는다\n",
    "soup = BeautifulSoup(res, \"html.parser\")"
   ]
  },
  {
   "cell_type": "code",
   "execution_count": 151,
   "metadata": {},
   "outputs": [],
   "source": [
    "recommend = soup.select(\"div.list_content > div > div.list_symph > span\")\n",
    "category = soup.select(\"div > div.list_title > a > span.shortname.fixed\")\n",
    "title = soup.select(\"div > div.list_title > a > span.subject_fixed\")\n",
    "reply = soup.select(\"div.list_content > div > div.list_title > a\")\n",
    "writer = soup.select(\" div.list_content > div > div.list_author\")\n",
    "viewCnt = soup.select(\"div.list_content > div > div.list_hit > span \")\n",
    "dateTime =soup.select(\"div.list_content > div > div.list_time > span\")\n",
    "docNo = soup.select(\"div.list_content > div > div.list_title > a.list_subject\")"
   ]
  },
  {
   "cell_type": "code",
   "execution_count": 194,
   "metadata": {},
   "outputs": [
    {
     "ename": "ValueError",
     "evalue": "invalid literal for int() with base 10: '\\n모공\\n자라리테일코리아(ZARA)도 롯데라면서요?\\n'",
     "output_type": "error",
     "traceback": [
      "\u001b[1;31m---------------------------------------------------------------------------\u001b[0m",
      "\u001b[1;31mValueError\u001b[0m                                Traceback (most recent call last)",
      "\u001b[1;32m<ipython-input-194-e62b105e17a4>\u001b[0m in \u001b[0;36m<module>\u001b[1;34m\u001b[0m\n\u001b[0;32m      2\u001b[0m \u001b[1;31m# 리플이 안달린 경우에\u001b[0m\u001b[1;33m\u001b[0m\u001b[1;33m\u001b[0m\u001b[1;33m\u001b[0m\u001b[0m\n\u001b[0;32m      3\u001b[0m \u001b[0mreply\u001b[0m \u001b[1;33m=\u001b[0m \u001b[0msoup\u001b[0m\u001b[1;33m.\u001b[0m\u001b[0mselect\u001b[0m\u001b[1;33m(\u001b[0m\u001b[1;34m\"div.list_content > div > div.list_title > a\"\u001b[0m\u001b[1;33m)\u001b[0m\u001b[1;33m\u001b[0m\u001b[1;33m\u001b[0m\u001b[0m\n\u001b[1;32m----> 4\u001b[1;33m \u001b[0mint\u001b[0m\u001b[1;33m(\u001b[0m\u001b[0mreply\u001b[0m\u001b[1;33m[\u001b[0m\u001b[1;36m2\u001b[0m\u001b[1;33m]\u001b[0m\u001b[1;33m.\u001b[0m\u001b[0mtext\u001b[0m\u001b[1;33m)\u001b[0m \u001b[1;31m# try except\u001b[0m\u001b[1;33m\u001b[0m\u001b[1;33m\u001b[0m\u001b[0m\n\u001b[0m\u001b[0;32m      5\u001b[0m \u001b[1;31m# 에러  나면 0으로 추가하도록\u001b[0m\u001b[1;33m\u001b[0m\u001b[1;33m\u001b[0m\u001b[1;33m\u001b[0m\u001b[0m\n",
      "\u001b[1;31mValueError\u001b[0m: invalid literal for int() with base 10: '\\n모공\\n자라리테일코리아(ZARA)도 롯데라면서요?\\n'"
     ]
    }
   ],
   "source": [
    "# 라이터가 이미지인 경우에\n",
    "# 리플이 안달린 경우에\n",
    "reply = soup.select(\"div.list_content > div > div.list_title > a\")\n",
    "int(reply[2].text) # try except\n",
    "# 에러  나면 0으로 추가하도록"
   ]
  },
  {
   "cell_type": "code",
   "execution_count": 195,
   "metadata": {},
   "outputs": [
    {
     "data": {
      "text/plain": [
       "'초코클랸'"
      ]
     },
     "execution_count": 195,
     "metadata": {},
     "output_type": "execute_result"
    }
   ],
   "source": [
    "\n",
    "writer = soup.select(\" div.list_content > div > div.list_author\")\n",
    "\n",
    "str(writer[28]).split('img alt=\"')[1].split('\"')[0]\n",
    "\n",
    "\n",
    "len(writer[2].text.split(\"\\n\")[3])\n",
    "#그림 없는경우\n",
    "writer[2].text.split(\"\\n\")[3]\n",
    "writer[28].text.split(\"\\n\")[3]\n",
    "\n",
    "# 그림이 있는 경우는 len이 0 이경우에는 \n",
    "str(writer[28]).split('img alt=\"')[1].split('\"')[0]\n"
   ]
  },
  {
   "cell_type": "code",
   "execution_count": 198,
   "metadata": {},
   "outputs": [
    {
     "data": {
      "text/plain": [
       "True"
      ]
     },
     "execution_count": 198,
     "metadata": {},
     "output_type": "execute_result"
    }
   ],
   "source": [
    "len(writer[28].text.split(\"\\n\")[3]) == 0 "
   ]
  },
  {
   "cell_type": "code",
   "execution_count": 166,
   "metadata": {},
   "outputs": [
    {
     "ename": "SyntaxError",
     "evalue": "invalid syntax (<ipython-input-166-579d255a9752>, line 1)",
     "output_type": "error",
     "traceback": [
      "\u001b[1;36m  File \u001b[1;32m\"<ipython-input-166-579d255a9752>\"\u001b[1;36m, line \u001b[1;32m1\u001b[0m\n\u001b[1;33m    def readPage(firstPage,lastPage)\u001b[0m\n\u001b[1;37m                                    ^\u001b[0m\n\u001b[1;31mSyntaxError\u001b[0m\u001b[1;31m:\u001b[0m invalid syntax\n"
     ]
    }
   ],
   "source": [
    "def readPage(firstPage,lastPage)\n",
    "\n",
    "    for i in range(firstPage,lastPage):\n",
    "        url = \"https://www.clien.net/service/group/community?&od=T31&po=\" + str(i)\n",
    "        res = req.urlopen(url) #소스를 res로 넣는다\n",
    "        soup = BeautifulSoup(res, \"html.parser\")\n",
    "        \n",
    "        recommend = soup.select(\"div.list_content > div > div.list_symph > span\")\n",
    "        category = soup.select(\"div > div.list_title > a > span.shortname.fixed\")\n",
    "        title = soup.select(\"div > div.list_title > a > span.subject_fixed\")\n",
    "        reply = soup.select(\"div.list_content > div > div.list_title > a\")\n",
    "        writer = soup.select(\" div.list_content > div > div.list_author\")\n",
    "        viewCnt = soup.select(\"div.list_content > div > div.list_hit > span \")\n",
    "        dateTime =soup.select(\"div.list_content > div > div.list_time > span\")\n",
    "        docNo = soup.select(\"div.list_content > div > div.list_title > a.list_subject\")\n",
    "        \n",
    "        recList =[]\n",
    "        catList =[]\n",
    "        titList =[]\n",
    "        repList =[]\n",
    "        wriList =[]\n",
    "        viewList =[]\n",
    "        datList =[]\n",
    "        docList = []\n",
    "        \n",
    "        for ind in range(30):\n",
    "            rec = recommend[ind].text\n",
    "            cat = category[ind].text\n",
    "            tit = title[ind].text      \n",
    "            view = viewCnt[ind].text\n",
    "            dat = dateTime[ind].text.split(\"\\t\")[13]\n",
    "            doc = doc[ind][\"href\"].split(\"/\")[4].split(\"?\")[0]\n",
    "            \n",
    "            try:\n",
    "                int(reply[ind].text)\n",
    "                rep = reply[ind].text\n",
    "            except:\n",
    "                rep = 0\n",
    "                \n",
    "            if len(writer[ind].text.split(\"\\n\")[3]) == 0:\n",
    "                wri = str(writer[ind]).split('img alt=\"')[1].split('\"')[0]\n",
    "            else:\n",
    "                wri = writer[ind].text.split(\"\\n\")[3]\n",
    "                \n",
    "            recList.append(rec)\n",
    "            catList.append(cat)\n",
    "            titList.append(tit)\n",
    "            repList.append(rep)\n",
    "            wriList.append(wri)\n",
    "            viewList.append(view)\n",
    "            datList.append(dat)\n",
    "            docList.append(doc)\n",
    "            \n",
    "        # list into dataframe\n",
    "            \n",
    "            "
   ]
  },
  {
   "cell_type": "code",
   "execution_count": 81,
   "metadata": {},
   "outputs": [
    {
     "name": "stdout",
     "output_type": "stream",
     "text": [
      "0\n",
      "모공\n",
      "[사진] 김근태 8주기 추도식 (노영민 유은혜 박영선 강금실 이재명 김부겸 우상호)\n",
      "1\n",
      "취당옹\n",
      "11\n",
      "\n",
      "\t\t\t\t\t\t\t14:30\n",
      "\t\t\t\t\t\t2019-12-28 14:30:13\n",
      "\n",
      "\n",
      "모공\n",
      "[사진] 김근태 8주기 추도식 (노영민 유은혜 박영선 강금실 이재명 김부겸 우상호)\n",
      "\n"
     ]
    }
   ],
   "source": []
  },
  {
   "cell_type": "code",
   "execution_count": 99,
   "metadata": {},
   "outputs": [
    {
     "name": "stdout",
     "output_type": "stream",
     "text": [
      "2019-12-28 14:30:13\n",
      "\n",
      "2019-12-28 14:29:56\n",
      "\n",
      "2019-12-28 14:29:45\n",
      "\n",
      "2019-12-28 14:29:20\n",
      "\n",
      "2019-12-28 14:29:08\n",
      "\n",
      "2019-12-28 14:28:48\n",
      "\n",
      "2019-12-28 14:28:14\n",
      "\n",
      "2019-12-28 14:27:48\n",
      "\n",
      "2019-12-28 14:26:21\n",
      "\n",
      "2019-12-28 14:24:41\n",
      "\n",
      "2019-12-28 14:22:20\n",
      "\n",
      "2019-12-28 14:18:58\n",
      "\n",
      "2019-12-28 14:18:00\n",
      "\n",
      "2019-12-28 14:16:35\n",
      "\n",
      "2019-12-28 14:16:02\n",
      "\n",
      "2019-12-28 14:15:52\n",
      "\n",
      "2019-12-28 14:14:38\n",
      "\n",
      "2019-12-28 14:14:24\n",
      "\n",
      "2019-12-28 14:14:17\n",
      "\n",
      "2019-12-28 14:13:25\n",
      "\n",
      "2019-12-28 14:12:36\n",
      "\n",
      "2019-12-28 14:11:03\n",
      "\n",
      "2019-12-28 14:10:44\n",
      "\n",
      "2019-12-28 14:10:06\n",
      "\n",
      "2019-12-28 14:09:45\n",
      "\n",
      "2019-12-28 14:09:34\n",
      "\n",
      "2019-12-28 14:09:07\n",
      "\n",
      "2019-12-28 14:08:58\n",
      "\n",
      "2019-12-28 14:08:18\n",
      "\n",
      "2019-12-28 14:08:17\n",
      "\n"
     ]
    }
   ],
   "source": [
    "for i in dateTime:\n",
    "    print(i.text.split(\"\\t\")[13])\n",
    "#     i.split('timestamp\">')"
   ]
  },
  {
   "cell_type": "code",
   "execution_count": 92,
   "metadata": {},
   "outputs": [
    {
     "data": {
      "text/plain": [
       "'\\n\\t\\t\\t\\t\\t\\t\\t14:24\\n\\t\\t\\t\\t\\t\\t2019-12-28 14:24:41\\n'"
      ]
     },
     "execution_count": 92,
     "metadata": {},
     "output_type": "execute_result"
    }
   ],
   "source": [
    "dateTime[9].text"
   ]
  },
  {
   "cell_type": "code",
   "execution_count": null,
   "metadata": {},
   "outputs": [],
   "source": []
  },
  {
   "cell_type": "code",
   "execution_count": 36,
   "metadata": {},
   "outputs": [
    {
     "name": "stdout",
     "output_type": "stream",
     "text": [
      "14437565\n",
      "14437561\n",
      "14437559\n",
      "14437558\n",
      "14437555\n",
      "14437554\n",
      "14437553\n",
      "14437552\n",
      "14437551\n",
      "14437550\n",
      "14437549\n",
      "14437546\n",
      "14437543\n",
      "14437540\n",
      "14437538\n",
      "14437537\n",
      "14437536\n",
      "14437535\n",
      "14437534\n",
      "14437533\n",
      "14437532\n",
      "14437531\n",
      "14437530\n",
      "14437529\n",
      "14437528\n",
      "14437527\n",
      "14437526\n",
      "14437525\n",
      "14437524\n",
      "14437523\n"
     ]
    }
   ],
   "source": [
    "for i in DocNo:\n",
    "    a=i['href'].split(\"/\")[4].split(\"?\")[0]\n",
    "    print(a)"
   ]
  },
  {
   "cell_type": "code",
   "execution_count": null,
   "metadata": {},
   "outputs": [],
   "source": []
  },
  {
   "cell_type": "code",
   "execution_count": null,
   "metadata": {},
   "outputs": [],
   "source": []
  },
  {
   "cell_type": "code",
   "execution_count": null,
   "metadata": {},
   "outputs": [],
   "source": []
  },
  {
   "cell_type": "code",
   "execution_count": 37,
   "metadata": {},
   "outputs": [],
   "source": [
    "DocNo = soup.select(\"div_content > div.list_content > div\")"
   ]
  },
  {
   "cell_type": "code",
   "execution_count": null,
   "metadata": {},
   "outputs": [],
   "source": [
    "#div_content > div.list_content > div > div.list_title > a.list_subject"
   ]
  },
  {
   "cell_type": "code",
   "execution_count": 65,
   "metadata": {},
   "outputs": [
    {
     "ename": "AttributeError",
     "evalue": "'list' object has no attribute 'text'",
     "output_type": "error",
     "traceback": [
      "\u001b[1;31m---------------------------------------------------------------------------\u001b[0m",
      "\u001b[1;31mAttributeError\u001b[0m                            Traceback (most recent call last)",
      "\u001b[1;32m<ipython-input-65-63f378def02d>\u001b[0m in \u001b[0;36m<module>\u001b[1;34m\u001b[0m\n\u001b[1;32m----> 1\u001b[1;33m \u001b[0mcategory\u001b[0m\u001b[1;33m.\u001b[0m\u001b[0mtext\u001b[0m\u001b[1;33m\u001b[0m\u001b[1;33m\u001b[0m\u001b[0m\n\u001b[0m",
      "\u001b[1;31mAttributeError\u001b[0m: 'list' object has no attribute 'text'"
     ]
    }
   ],
   "source": [
    "#div_content > div.list_content > div:nth-child(23) > div.list_title > a.list_reply.reply_symph > span"
   ]
  },
  {
   "cell_type": "code",
   "execution_count": null,
   "metadata": {},
   "outputs": [],
   "source": [
    "#div_content > div.list_content > div:nth-child(1) > div.list_title > a > span.subject_fixed"
   ]
  },
  {
   "cell_type": "code",
   "execution_count": null,
   "metadata": {},
   "outputs": [],
   "source": [
    "div_content > div.list_content > div:nth-child(1) > div.list_symph.view_symph.lSymph01 > span\n",
    "    \n",
    "    #div_content > div.list_content > div:nth-child(1) > div.list_symph.view_symph.lSymph01"
   ]
  }
 ],
 "metadata": {
  "kernelspec": {
   "display_name": "Python 3",
   "language": "python",
   "name": "python3"
  },
  "language_info": {
   "codemirror_mode": {
    "name": "ipython",
    "version": 3
   },
   "file_extension": ".py",
   "mimetype": "text/x-python",
   "name": "python",
   "nbconvert_exporter": "python",
   "pygments_lexer": "ipython3",
   "version": "3.7.3"
  }
 },
 "nbformat": 4,
 "nbformat_minor": 2
}
